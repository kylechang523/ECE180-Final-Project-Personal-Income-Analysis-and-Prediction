{
 "cells": [
  {
   "cell_type": "code",
   "execution_count": 1,
   "metadata": {
    "collapsed": true,
    "scrolled": false
   },
   "outputs": [],
   "source": [
    "f = open(\"/Users/kylechang/Desktop/ucsd/课件资料/ece180/adult.data.txt\", \"r\")  \n",
    "data = []\n",
    "while True:  \n",
    "    line = f.readline()  \n",
    "    if line:  \n",
    "        pass    # do something here \n",
    "        line=line.strip()\n",
    "        p=line.rfind('.')\n",
    "        filename=line[0:p]\n",
    "        data.append(line)\n",
    "    else:  \n",
    "        break\n",
    "f.close()"
   ]
  },
  {
   "cell_type": "code",
   "execution_count": 36,
   "metadata": {
    "collapsed": true
   },
   "outputs": [],
   "source": [
    "above = []\n",
    "below = []\n",
    "for item in data:\n",
    "    if '<=50K' in item:\n",
    "        below.append(item)\n",
    "    elif '>50K' in item:\n",
    "        above.append(item)"
   ]
  },
  {
   "cell_type": "markdown",
   "metadata": {},
   "source": [
    "### Let's count the main element: age,eduction，marriage status,job type, race, gender, nationality,\n",
    "####first is the below:"
   ]
  },
  {
   "cell_type": "code",
   "execution_count": 3,
   "metadata": {
    "collapsed": true
   },
   "outputs": [],
   "source": [
    "age_below = []\n",
    "edu_below = []\n",
    "workyear_below = []\n",
    "mari_below = []\n",
    "jobty_below = []\n",
    "gen_below = []\n",
    "race_below = []\n",
    "nat_below = []\n",
    "\n",
    "for i in range(len(below)):\n",
    "    b = below[i].split()\n",
    "    age_below.append(b[0])\n",
    "    edu_below.append(b[3])\n",
    "    workyear_below.append(b[4])\n",
    "    mari_below.append(b[5])\n",
    "    jobty_below.append(b[6])\n",
    "    race_below.append(b[8])\n",
    "    gen_below.append(b[9])\n",
    "    nat_below.append(b[-2])"
   ]
  },
  {
   "cell_type": "code",
   "execution_count": 4,
   "metadata": {
    "collapsed": true
   },
   "outputs": [],
   "source": [
    "### age\n",
    "a_20 = []; a_20_num = 0\n",
    "a_30 = []; a_30_num = 0\n",
    "a_40 = []; a_40_num = 0\n",
    "a_50 = []; a_50_num = 0\n",
    "a_60 = []; a_60_num = 0\n",
    "a_70 = []; a_70_num = 0\n",
    "a_80 = []; a_80_num = 0\n",
    "a_90 = []; a_90_num = 0\n",
    "for i in range(len(age_below)):\n",
    "    age_below[i] = age_below[i].replace(',', '')\n",
    "    if int(age_below[i])<=20:\n",
    "        a_20.append(int(age_below[i]))\n",
    "        a_20_num += 1\n",
    "    elif int(age_below[i])>20 and int(age_below[i])<=30:\n",
    "        a_30.append(int(age_below[i]))\n",
    "        a_30_num += 1\n",
    "    elif int(age_below[i])>30 and int(age_below[i])<=40:\n",
    "        a_40.append(int(age_below[i]))\n",
    "        a_40_num += 1\n",
    "    elif int(age_below[i])>40 and int(age_below[i])<=50:\n",
    "        a_50.append(int(age_below[i]))\n",
    "        a_50_num += 1\n",
    "    elif int(age_below[i])>50 and int(age_below[i])<=60:\n",
    "        a_60.append(int(age_below[i]))\n",
    "        a_60_num += 1\n",
    "    elif int(age_below[i])>60 and int(age_below[i])<=70:\n",
    "        a_70.append(int(age_below[i]))\n",
    "        a_70_num += 1\n",
    "    elif int(age_below[i])>70 and int(age_below[i])<=80:\n",
    "        a_80.append(int(age_below[i]))\n",
    "        a_80_num += 1\n",
    "    elif int(age_below[i])>80 and int(age_below[i])<=90:\n",
    "        a_90.append(int(age_below[i]))\n",
    "        a_90_num += 1"
   ]
  },
  {
   "cell_type": "code",
   "execution_count": 5,
   "metadata": {
    "collapsed": true
   },
   "outputs": [],
   "source": [
    "age_below = {20:a_20_num, 30:a_30_num, 40:a_40_num, 50:a_50_num, 60:a_60_num, 70:a_70_num, 80:a_80_num, 90:a_90_num,}"
   ]
  },
  {
   "cell_type": "code",
   "execution_count": 6,
   "metadata": {
    "collapsed": true
   },
   "outputs": [],
   "source": [
    "### education\n",
    "from collections import defaultdict\n",
    "edub = defaultdict(int)\n",
    "for item in edu_below:\n",
    "    edub[item] += 1"
   ]
  },
  {
   "cell_type": "code",
   "execution_count": null,
   "metadata": {
    "collapsed": true
   },
   "outputs": [],
   "source": [
    "for i in range(len(workyear_below)):\n",
    "    workyear_above[i] = int(workyear_below[i].replace(',', ''))"
   ]
  },
  {
   "cell_type": "code",
   "execution_count": 7,
   "metadata": {
    "collapsed": true
   },
   "outputs": [],
   "source": [
    "### work years\n",
    "w_1 = []; w_1_num = 0\n",
    "w_2 = []; w_2_num = 0\n",
    "w_3 = []; w_3_num = 0\n",
    "for i in range(len(workyear_below)):\n",
    "    workyear_below[i] = workyear_below[i].replace(',', '')\n",
    "    if int(workyear_below[i])<=3:\n",
    "        w_1.append(int(workyear_below[i]))\n",
    "        w_1_num += 1\n",
    "    elif int(workyear_below[i])>3 and int(workyear_below[i])<=6:\n",
    "        w_2.append(int(workyear_below[i]))\n",
    "        w_2_num += 1\n",
    "    elif int(workyear_below[i])>6 and int(workyear_below[i])<=9:\n",
    "        w_3.append(int(workyear_below[i]))\n",
    "        w_3_num += 1\n",
    "\n",
    "wdict = {'0-3':w_1_num,'3-6':w_2_num,'6-9':w_3_num}"
   ]
  },
  {
   "cell_type": "code",
   "execution_count": 8,
   "metadata": {
    "collapsed": true
   },
   "outputs": [],
   "source": [
    "### marriage status\n",
    "from collections import defaultdict\n",
    "marri = defaultdict(int)\n",
    "for item in mari_below:\n",
    "    marri[item] += 1"
   ]
  },
  {
   "cell_type": "code",
   "execution_count": 14,
   "metadata": {},
   "outputs": [],
   "source": [
    "### job type\n",
    "from collections import defaultdict\n",
    "jobty = defaultdict(int)\n",
    "for item in jobty_below:\n",
    "    jobty[item] += 1"
   ]
  },
  {
   "cell_type": "code",
   "execution_count": 15,
   "metadata": {
    "collapsed": true
   },
   "outputs": [],
   "source": [
    "### race\n",
    "from collections import defaultdict\n",
    "race = defaultdict(int)\n",
    "for item in race_below:\n",
    "    race[item] += 1"
   ]
  },
  {
   "cell_type": "code",
   "execution_count": 10,
   "metadata": {
    "collapsed": true
   },
   "outputs": [],
   "source": [
    "### gender\n",
    "from collections import defaultdict\n",
    "gen = defaultdict(int)\n",
    "for item in gen_below:\n",
    "    gen[item] += 1"
   ]
  },
  {
   "cell_type": "code",
   "execution_count": 11,
   "metadata": {
    "collapsed": true
   },
   "outputs": [],
   "source": [
    "### nationality\n",
    "from collections import defaultdict\n",
    "nat = defaultdict(int)\n",
    "for item in nat_below:\n",
    "    nat[item] += 1"
   ]
  },
  {
   "cell_type": "markdown",
   "metadata": {},
   "source": [
    "####Now let's calculate the above:"
   ]
  },
  {
   "cell_type": "code",
   "execution_count": 37,
   "metadata": {
    "collapsed": true
   },
   "outputs": [],
   "source": [
    "age_above = []\n",
    "edu_above = []\n",
    "workyear_above = []\n",
    "mari_above = []\n",
    "jobty_above = []\n",
    "gen_above = []\n",
    "race_above = []\n",
    "nat_above = []\n",
    "\n",
    "for i in range(len(above)):\n",
    "    a = above[i].split()\n",
    "    age_above.append(a[0])\n",
    "    edu_above.append(a[3])\n",
    "    workyear_above.append(a[4])\n",
    "    mari_above.append(a[5])\n",
    "    jobty_above.append(a[6])\n",
    "    race_above.append(a[8])\n",
    "    gen_above.append(a[9])\n",
    "    nat_above.append(a[-2])"
   ]
  },
  {
   "cell_type": "code",
   "execution_count": 38,
   "metadata": {
    "collapsed": true
   },
   "outputs": [],
   "source": [
    "### age\n",
    "a_20 = []; a_20_num = 0\n",
    "a_30 = []; a_30_num = 0\n",
    "a_40 = []; a_40_num = 0\n",
    "a_50 = []; a_50_num = 0\n",
    "a_60 = []; a_60_num = 0\n",
    "a_70 = []; a_70_num = 0\n",
    "a_80 = []; a_80_num = 0\n",
    "a_90 = []; a_90_num = 0\n",
    "for i in range(len(age_above)):\n",
    "    age_above[i] = age_above[i].replace(',', '')\n",
    "    if int(age_above[i])<=20:\n",
    "        a_20.append(int(age_above[i]))\n",
    "        a_20_num += 1\n",
    "    elif int(age_above[i])>20 and int(age_above[i])<=30:\n",
    "        a_30.append(int(age_above[i]))\n",
    "        a_30_num += 1\n",
    "    elif int(age_above[i])>30 and int(age_above[i])<=40:\n",
    "        a_40.append(int(age_above[i]))\n",
    "        a_40_num += 1\n",
    "    elif int(age_above[i])>40 and int(age_above[i])<=50:\n",
    "        a_50.append(int(age_above[i]))\n",
    "        a_50_num += 1\n",
    "    elif int(age_above[i])>50 and int(age_above[i])<=60:\n",
    "        a_60.append(int(age_above[i]))\n",
    "        a_60_num += 1\n",
    "    elif int(age_above[i])>60 and int(age_above[i])<=70:\n",
    "        a_70.append(int(age_above[i]))\n",
    "        a_70_num += 1\n",
    "    elif int(age_above[i])>70 and int(age_above[i])<=80:\n",
    "        a_80.append(int(age_above[i]))\n",
    "        a_80_num += 1\n",
    "    elif int(age_above[i])>80 and int(age_above[i])<=90:\n",
    "        a_90.append(int(age_above[i]))\n",
    "        a_90_num += 1"
   ]
  },
  {
   "cell_type": "code",
   "execution_count": 39,
   "metadata": {},
   "outputs": [],
   "source": [
    "age_above = {20:a_20_num, 30:a_30_num, 40:a_40_num, 50:a_50_num, 60:a_60_num, 70:a_70_num, 80:a_80_num, 90:a_90_num,}"
   ]
  },
  {
   "cell_type": "code",
   "execution_count": 40,
   "metadata": {
    "collapsed": true
   },
   "outputs": [],
   "source": [
    "### education\n",
    "from collections import defaultdict\n",
    "edua = defaultdict(int)\n",
    "for item in edu_above:\n",
    "    edua[item] += 1"
   ]
  },
  {
   "cell_type": "code",
   "execution_count": 42,
   "metadata": {},
   "outputs": [],
   "source": [
    "### work years\n",
    "w_1 = []; w_1_num = 0\n",
    "w_2 = []; w_2_num = 0\n",
    "w_3 = []; w_3_num = 0\n",
    "w_4 = []; w_4_num = 0\n",
    "for i in range(len(workyear_above)):\n",
    "    workyear_above[i] = workyear_above[i].replace(',', '')\n",
    "    \n",
    "for i in range(len(workyear_above)):\n",
    "    if int(workyear_above[i])<=4:\n",
    "        w_1.append(int(workyear_above[i]))\n",
    "        w_1_num += 1\n",
    "    elif int(workyear_above[i])>4 and int(workyear_above[i])<=8:\n",
    "        w_2.append(int(workyear_above[i]))\n",
    "        w_2_num += 1\n",
    "    elif int(workyear_above[i])>8 and int(workyear_above[i])<=12:\n",
    "        w_3.append(int(workyear_above[i]))\n",
    "        w_3_num += 1\n",
    "    elif int(workyear_above[i])>12 and int(workyear_above[i])<=16:\n",
    "        w_4.append(int(workyear_above[i]))\n",
    "        w_4_num += 1\n"
   ]
  },
  {
   "cell_type": "code",
   "execution_count": 43,
   "metadata": {
    "collapsed": true
   },
   "outputs": [],
   "source": [
    "wdict = {'0-4':w_1_num,'4-8':w_2_num,'8-12':w_3_num,'12-16':w_4_num}"
   ]
  },
  {
   "cell_type": "code",
   "execution_count": 45,
   "metadata": {
    "collapsed": true
   },
   "outputs": [],
   "source": [
    "### marriage status\n",
    "from collections import defaultdict\n",
    "marri_a = defaultdict(int)\n",
    "for item in mari_above:\n",
    "    marri_a[item] += 1"
   ]
  },
  {
   "cell_type": "code",
   "execution_count": 46,
   "metadata": {
    "collapsed": true
   },
   "outputs": [],
   "source": [
    "### job type\n",
    "from collections import defaultdict\n",
    "jobty_a = defaultdict(int)\n",
    "for item in jobty_above:\n",
    "    jobty_a[item] += 1"
   ]
  },
  {
   "cell_type": "code",
   "execution_count": 47,
   "metadata": {
    "collapsed": true
   },
   "outputs": [],
   "source": [
    "### race\n",
    "from collections import defaultdict\n",
    "race_a = defaultdict(int)\n",
    "for item in race_above:\n",
    "    race_a[item] += 1"
   ]
  },
  {
   "cell_type": "code",
   "execution_count": 48,
   "metadata": {
    "collapsed": true
   },
   "outputs": [],
   "source": [
    "### gender\n",
    "from collections import defaultdict\n",
    "gen_a = defaultdict(int)\n",
    "for item in gen_above:\n",
    "    gen_a[item] += 1"
   ]
  },
  {
   "cell_type": "code",
   "execution_count": 49,
   "metadata": {
    "collapsed": true
   },
   "outputs": [],
   "source": [
    "### nationality\n",
    "from collections import defaultdict\n",
    "nat_a = defaultdict(int)\n",
    "for item in nat_above:\n",
    "    nat_a[item] += 1"
   ]
  },
  {
   "cell_type": "code",
   "execution_count": null,
   "metadata": {
    "collapsed": true
   },
   "outputs": [],
   "source": []
  }
 ],
 "metadata": {
  "kernelspec": {
   "display_name": "Python 3",
   "language": "python",
   "name": "python3"
  },
  "language_info": {
   "codemirror_mode": {
    "name": "ipython",
    "version": 3
   },
   "file_extension": ".py",
   "mimetype": "text/x-python",
   "name": "python",
   "nbconvert_exporter": "python",
   "pygments_lexer": "ipython3",
   "version": "3.6.1"
  }
 },
 "nbformat": 4,
 "nbformat_minor": 2
}

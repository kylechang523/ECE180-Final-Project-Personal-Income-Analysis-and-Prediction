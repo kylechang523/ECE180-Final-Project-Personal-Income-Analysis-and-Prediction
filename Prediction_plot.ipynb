{
 "cells": [
  {
   "cell_type": "code",
   "execution_count": 6,
   "metadata": {},
   "outputs": [
    {
     "name": "stdout",
     "output_type": "stream",
     "text": [
      "High five! You successfully sent some data to your account on plotly. View your plot in your browser at https://plot.ly/~bill.brazer.wy.zhang/0 or inside your plot.ly account where it is named 'styled-line'\n"
     ]
    },
    {
     "data": {
      "text/html": [
       "<iframe id=\"igraph\" scrolling=\"no\" style=\"border:none;\" seamless=\"seamless\" src=\"https://plot.ly/~bill.brazer.wy.zhang/0.embed\" height=\"525px\" width=\"100%\"></iframe>"
      ],
      "text/plain": [
       "<plotly.tools.PlotlyDisplay object>"
      ]
     },
     "execution_count": 6,
     "metadata": {},
     "output_type": "execute_result"
    }
   ],
   "source": [
    "import plotly\n",
    "plotly.tools.set_credentials_file(username='bill.brazer.wy.zhang', api_key='q0ZzgnHxCwUBBDzb9Xji')\n",
    "import plotly.plotly as py\n",
    "import plotly.graph_objs as go\n",
    "\n",
    "# Create random data with numpy\n",
    "import numpy as np\n",
    "\n",
    "# Add data\n",
    "log = [-2, -1, 0, 1, 2, 3, 4, 5, 6]\n",
    "test5 = [0.912658928,0.912658928,0.912658928,0.912658928,0.912658928,0.912658928,0.913027455,0.912843191,0.908605123]\n",
    "valid5 = [0.797604423,0.797604423,0.797604423,0.797604423,0.797665848,0.797850123,0.798218673,0.798464373,0.796928747]\n",
    "train5 = [0.797235872,0.797235872,0.797235872,0.797235872,0.797235872,0.797174447,0.797420147,0.797665848,0.796130221]\n",
    "train7 = [0.796805897,0.796805897,0.796744472,0.796621622,0.796253071,0.797297297,0.797481572,0.797542998,0.796683047]\n",
    "valid7 = [0.799385749,0.799385749,0.799447174,0.7995086,0.8,0.799078624,0.799078624,0.798771499,0.798280098]\n",
    "test7 = [0.913887353,0.913887353,0.913948775,0.914255881,0.91419446,0.914071617,0.913703089,0.913825932,0.913580247]\n",
    "\n",
    "# Create and style traces\n",
    "trace0 = go.Scatter(\n",
    "    x = log,\n",
    "    y = test5,\n",
    "    name = 'trained with 5 features',\n",
    "    line = dict(\n",
    "        color = ('rgb(102, 153, 255)'),\n",
    "        width = 4)\n",
    ")\n",
    "trace1 = go.Scatter(\n",
    "    x = log,\n",
    "    y = train5,\n",
    "    name = 'training data, 5 features',\n",
    "    line = dict(\n",
    "        color = ('rgb(102, 153, 255)'),\n",
    "        width = 4,\n",
    "        dash = 'dash')\n",
    ")\n",
    "trace2 = go.Scatter(\n",
    "    x = log,\n",
    "    y = valid5,\n",
    "    name = 'validation data, 5 features',\n",
    "    line = dict(\n",
    "        color = ('rgb(102, 153, 255)'),\n",
    "        width = 4,\n",
    "        dash = 'dot') # dash options include 'dash', 'dot', and 'dashdot'\n",
    ")\n",
    "trace3 = go.Scatter(\n",
    "    x = log,\n",
    "    y = test7,\n",
    "    name = 'trained with 7 features',\n",
    "    line = dict(\n",
    "        color = ('rgb(255, 80, 80)'),\n",
    "        width = 4)\n",
    ")\n",
    "trace4 = go.Scatter(\n",
    "    x = log,\n",
    "    y = train7,\n",
    "    name = 'training data, 7 features',\n",
    "    line = dict(\n",
    "        color = ('rgb(255, 80, 80)'),\n",
    "        width = 4,\n",
    "        dash = 'dash')\n",
    ")\n",
    "trace5 = go.Scatter(\n",
    "    x = log,\n",
    "    y = valid7,\n",
    "    name = 'validation data, 7 features',\n",
    "    line = dict(\n",
    "        color = ('rgb(255, 80, 80)'),\n",
    "        width = 4,\n",
    "        dash = 'dot')\n",
    ")\n",
    "#data = [trace0, trace1, trace2, trace3, trace4, trace5]\n",
    "data = [trace0,trace3]\n",
    "# Edit the layout\n",
    "layout = dict(title = 'Prediction Accuracy of Classsifier on Test Data',\n",
    "              xaxis = dict(title = r'$log(\\lambda)$'),\n",
    "              yaxis = dict(title = 'Accuracy'),\n",
    "              )\n",
    "\n",
    "fig = dict(data=data, layout=layout)\n",
    "py.iplot(fig, filename='styled-line')"
   ]
  },
  {
   "cell_type": "code",
   "execution_count": 7,
   "metadata": {},
   "outputs": [
    {
     "name": "stdout",
     "output_type": "stream",
     "text": [
      "High five! You successfully sent some data to your account on plotly. View your plot in your browser at https://plot.ly/~bill.brazer.wy.zhang/0 or inside your plot.ly account where it is named 'styled-line'\n"
     ]
    },
    {
     "data": {
      "text/html": [
       "<iframe id=\"igraph\" scrolling=\"no\" style=\"border:none;\" seamless=\"seamless\" src=\"https://plot.ly/~bill.brazer.wy.zhang/0.embed\" height=\"525px\" width=\"100%\"></iframe>"
      ],
      "text/plain": [
       "<plotly.tools.PlotlyDisplay object>"
      ]
     },
     "execution_count": 7,
     "metadata": {},
     "output_type": "execute_result"
    }
   ],
   "source": [
    "data = [trace1,trace2,trace4,trace5]\n",
    "# Edit the layout\n",
    "layout = dict(title = 'Prediction Accuracy of Classsifier on Training/Validation Data',\n",
    "              xaxis = dict(title = r'$log(\\lambda)$'),\n",
    "              yaxis = dict(title = 'Accuracy'),\n",
    "              )\n",
    "\n",
    "fig = dict(data=data, layout=layout)\n",
    "py.iplot(fig, filename='styled-line')"
   ]
  },
  {
   "cell_type": "code",
   "execution_count": 8,
   "metadata": {},
   "outputs": [
    {
     "data": {
      "text/html": [
       "<iframe id=\"igraph\" scrolling=\"no\" style=\"border:none;\" seamless=\"seamless\" src=\"https://plot.ly/~bill.brazer.wy.zhang/2.embed\" height=\"525px\" width=\"100%\"></iframe>"
      ],
      "text/plain": [
       "<plotly.tools.PlotlyDisplay object>"
      ]
     },
     "execution_count": 8,
     "metadata": {},
     "output_type": "execute_result"
    }
   ],
   "source": [
    "import plotly.plotly as py\n",
    "import plotly.graph_objs as go\n",
    "\n",
    "trace0 = go.Bar(\n",
    "    x=['Age/year', 'Education Num/year', 'Capital Gain/dollar',\n",
    "       'Capital Loss/dollar', 'Hours per Week/hour'],\n",
    "    y=[-0.119279714,-0.068208443,2.369135982,0.320293993,-0.203735924],\n",
    "    marker=dict(\n",
    "        color=[ 'rgba(222,45,38,0.68)','rgba(50, 171, 96, 0.68)',\n",
    "               'rgba(219, 64, 82, 0.68)', 'rgba(55, 128, 191, 0.68)',\n",
    "               'rgba(153, 0, 153,0.68)']),\n",
    ")\n",
    "\n",
    "data = [trace0]\n",
    "layout = go.Layout(\n",
    "    title='Influential Coefficients of 5 Features(Test Accuracy = 0.913027)',\n",
    ")\n",
    "\n",
    "fig = go.Figure(data=data, layout=layout)\n",
    "py.iplot(fig, filename='color-bar')"
   ]
  },
  {
   "cell_type": "code",
   "execution_count": 9,
   "metadata": {},
   "outputs": [
    {
     "data": {
      "text/html": [
       "<iframe id=\"igraph\" scrolling=\"no\" style=\"border:none;\" seamless=\"seamless\" src=\"https://plot.ly/~bill.brazer.wy.zhang/2.embed\" height=\"525px\" width=\"100%\"></iframe>"
      ],
      "text/plain": [
       "<plotly.tools.PlotlyDisplay object>"
      ]
     },
     "execution_count": 9,
     "metadata": {},
     "output_type": "execute_result"
    }
   ],
   "source": [
    "trace0 = go.Bar(\n",
    "    x=['Age/year', 'Education Num/year', 'Capital Gain/dollar',\n",
    "       'Capital Loss/dollar', 'Hours per Week/hour', 'fnlwgt/1000 people', 'Sex == Male'],\n",
    "    y=[-0.085599813,-0.038185241,2.343825739,0.310580326,-0.179490633,-0.40507176,0.259104608],\n",
    "    marker=dict(\n",
    "        color=[ 'rgba(222,45,38,0.68)','rgba(50, 171, 96, 0.68)',\n",
    "               'rgba(219, 64, 82, 0.68)', 'rgba(55, 128, 191, 0.68)',\n",
    "               'rgba(153, 0, 153,0.68)', 'rgba(255, 153, 0, 0.68)',\n",
    "               'rgba(0, 153, 153, 0.68)']),\n",
    ")\n",
    "\n",
    "data = [trace0]\n",
    "layout = go.Layout(\n",
    "    title='Influential Coefficients of 7 Features(Test Accuracy = 0.914256)',\n",
    ")\n",
    "\n",
    "fig = go.Figure(data=data, layout=layout)\n",
    "py.iplot(fig, filename='color-bar')"
   ]
  },
  {
   "cell_type": "code",
   "execution_count": null,
   "metadata": {},
   "outputs": [],
   "source": []
  }
 ],
 "metadata": {
  "kernelspec": {
   "display_name": "Python 2",
   "language": "python",
   "name": "python2"
  },
  "language_info": {
   "codemirror_mode": {
    "name": "ipython",
    "version": 2
   },
   "file_extension": ".py",
   "mimetype": "text/x-python",
   "name": "python",
   "nbconvert_exporter": "python",
   "pygments_lexer": "ipython2",
   "version": "2.7.14"
  }
 },
 "nbformat": 4,
 "nbformat_minor": 2
}

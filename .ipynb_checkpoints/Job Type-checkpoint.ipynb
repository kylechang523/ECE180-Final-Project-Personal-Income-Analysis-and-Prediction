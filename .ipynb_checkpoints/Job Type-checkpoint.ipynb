{
 "cells": [
  {
   "cell_type": "code",
   "execution_count": 1,
   "metadata": {},
   "outputs": [
    {
     "ename": "ImportError",
     "evalue": "No module named request",
     "output_type": "error",
     "traceback": [
      "\u001b[1;31m---------------------------------------------------------------------------\u001b[0m",
      "\u001b[1;31mImportError\u001b[0m                               Traceback (most recent call last)",
      "\u001b[1;32m<ipython-input-1-9e662268eb28>\u001b[0m in \u001b[0;36m<module>\u001b[1;34m()\u001b[0m\n\u001b[1;32m----> 1\u001b[1;33m \u001b[1;32mfrom\u001b[0m \u001b[0murllib\u001b[0m\u001b[1;33m.\u001b[0m\u001b[0mrequest\u001b[0m \u001b[1;32mimport\u001b[0m \u001b[0murlopen\u001b[0m\u001b[1;33m\u001b[0m\u001b[0m\n\u001b[0m\u001b[0;32m      2\u001b[0m \u001b[0mhtml\u001b[0m \u001b[1;33m=\u001b[0m \u001b[0murlopen\u001b[0m\u001b[1;33m(\u001b[0m\u001b[1;34m\"https://archive.ics.uci.edu/ml/machine-learning-databases/adult/adult.data\"\u001b[0m\u001b[1;33m)\u001b[0m\u001b[1;33m\u001b[0m\u001b[0m\n\u001b[0;32m      3\u001b[0m \u001b[0mhtmltxt\u001b[0m \u001b[1;33m=\u001b[0m \u001b[0mhtml\u001b[0m\u001b[1;33m.\u001b[0m\u001b[0mread\u001b[0m\u001b[1;33m(\u001b[0m\u001b[1;33m)\u001b[0m\u001b[1;33m.\u001b[0m\u001b[0msplitlines\u001b[0m\u001b[1;33m(\u001b[0m\u001b[1;33m)\u001b[0m\u001b[1;33m\u001b[0m\u001b[0m\n\u001b[0;32m      4\u001b[0m datakey = ['age','workplace','fnlwgt','education','education-num','marital-status',\n\u001b[0;32m      5\u001b[0m            \u001b[1;34m'occupation'\u001b[0m\u001b[1;33m,\u001b[0m\u001b[1;34m'relationship'\u001b[0m\u001b[1;33m,\u001b[0m\u001b[1;34m'race'\u001b[0m\u001b[1;33m,\u001b[0m\u001b[1;34m'sex'\u001b[0m\u001b[1;33m,\u001b[0m\u001b[1;34m'capital-gain'\u001b[0m\u001b[1;33m,\u001b[0m\u001b[1;34m'capital-loss'\u001b[0m\u001b[1;33m,\u001b[0m\u001b[1;33m\u001b[0m\u001b[0m\n",
      "\u001b[1;31mImportError\u001b[0m: No module named request"
     ]
    }
   ],
   "source": [
    "from urllib.request import urlopen\n",
    "html = urlopen(\"https://archive.ics.uci.edu/ml/machine-learning-databases/adult/adult.data\")\n",
    "htmltxt = html.read().splitlines()\n",
    "datakey = ['age','workplace','fnlwgt','education','education-num','marital-status',\n",
    "           'occupation','relationship','race','sex','capital-gain','capital-loss',\n",
    "           'hours-per-week','native-country','income']\n",
    "list1 = []\n",
    "d = {}\n",
    "for i in htmltxt:\n",
    "    temp = i.decode().split(\",\")\n",
    "    if temp == ['']:\n",
    "        break\n",
    "    tempdict = dict(zip(datakey, temp))\n",
    "    list1.append(tempdict)\n",
    "for k in tempdict.keys():\n",
    "    d[k] = tuple(d[k] for d in list1)\n",
    "\n",
    "import json\n",
    "with open('adult_dict.json','w') as f:\n",
    "    json.dump(d, f)\n"
   ]
  },
  {
   "cell_type": "code",
   "execution_count": null,
   "metadata": {},
   "outputs": [],
   "source": [
    "from collections import Counter\n",
    "import json\n",
    "import pandas as pd\n",
    "import matplotlib.pyplot as plt\n",
    "\n",
    "with open('adult_dict.json') as f:\n",
    "    d = json.load(f)\n",
    "\n",
    "\n",
    "indices1 = [i for i, x in enumerate(d['income']) if x == d['income'][0]]\n",
    "indices2 = [i for i, x in enumerate(d['income']) if x == d['income'][9]]"
   ]
  },
  {
   "cell_type": "code",
   "execution_count": null,
   "metadata": {},
   "outputs": [],
   "source": [
    "above_sex = []\n",
    "below_sex = []\n",
    "for i in indices1:\n",
    "    below_sex.append(d['sex'][i])\n",
    "for i in indices2:\n",
    "    above_sex.append(d['sex'][i])\n",
    "    \n",
    "above_job = []\n",
    "below_job = []\n",
    "for i in indices1:\n",
    "    below_job.append(d['occupation'][i])\n",
    "for i in indices2:\n",
    "    above_job.append(d['occupation'][i])"
   ]
  },
  {
   "cell_type": "code",
   "execution_count": null,
   "metadata": {},
   "outputs": [],
   "source": [
    "my_count = pd.Series(above_sex).value_counts() \n",
    "plt.figure()  \n",
    "my_count.plot(kind='pie', title = 'above50k: sex') \n",
    "plt.axis('equal')\n",
    "my_count = pd.Series(below_sex).value_counts() \n",
    "plt.figure() \n",
    "my_count.plot(kind='pie', title = 'below50k: sex') \n",
    "my_count = pd.Series(d['sex']).value_counts() \n",
    "plt.figure() \n",
    "my_count.plot(kind='pie', title = 'total: sex') \n",
    "\n",
    "\n",
    "my_count = pd.Series(above_job).value_counts() \n",
    "plt.figure() \n",
    "my_count.plot(kind='pie', title = 'above50k: job') \n",
    "plt.axis('equal')\n",
    "my_count = pd.Series(below_job).value_counts() \n",
    "plt.figure() \n",
    "my_count.plot(kind='pie', title = 'below50k: job') \n",
    "my_count = pd.Series(d['occupation']).value_counts() \n",
    "plt.figure() \n",
    "my_count.plot(kind='pie', title = 'total: job') \n",
    "plt.figure() "
   ]
  }
 ],
 "metadata": {
  "kernelspec": {
   "display_name": "Python 2",
   "language": "python",
   "name": "python2"
  },
  "language_info": {
   "codemirror_mode": {
    "name": "ipython",
    "version": 2
   },
   "file_extension": ".py",
   "mimetype": "text/x-python",
   "name": "python",
   "nbconvert_exporter": "python",
   "pygments_lexer": "ipython2",
   "version": "2.7.14"
  }
 },
 "nbformat": 4,
 "nbformat_minor": 2
}
